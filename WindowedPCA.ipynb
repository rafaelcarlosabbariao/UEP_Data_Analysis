{
 "cells": [
  {
   "cell_type": "code",
   "execution_count": 1,
   "metadata": {},
   "outputs": [],
   "source": [
    "import numpy as np\n",
    "import pandas as pd\n",
    "import matplotlib.pyplot as plt\n",
    "from sklearn.impute import SimpleImputer\n",
    "from sklearn.preprocessing import StandardScaler\n",
    "from sklearn.decomposition import PCA"
   ]
  },
  {
   "cell_type": "code",
   "execution_count": 3,
   "metadata": {},
   "outputs": [
    {
     "ename": "FileNotFoundError",
     "evalue": "[Errno 2] File b'D:/Python/Machine Learning/Research/12.5%MUSuccess_UEP_C120518A_004_6_2_2_DCH20_40_121818-01-097.csv' does not exist: b'D:/Python/Machine Learning/Research/12.5%MUSuccess_UEP_C120518A_004_6_2_2_DCH20_40_121818-01-097.csv'",
     "output_type": "error",
     "traceback": [
      "\u001b[1;31m---------------------------------------------------------------------------\u001b[0m",
      "\u001b[1;31mFileNotFoundError\u001b[0m                         Traceback (most recent call last)",
      "\u001b[1;32m<ipython-input-3-014ec32292bd>\u001b[0m in \u001b[0;36m<module>\u001b[1;34m\u001b[0m\n\u001b[0;32m      1\u001b[0m \u001b[0msuccessful_df1\u001b[0m \u001b[1;33m=\u001b[0m \u001b[0mpd\u001b[0m\u001b[1;33m.\u001b[0m\u001b[0mread_csv\u001b[0m\u001b[1;33m(\u001b[0m\u001b[1;34m\"D:/Python/Machine Learning/Research/10%Success_UEP_C042618A_198_DCH20_050318-01-069 (1).csv\"\u001b[0m\u001b[1;33m)\u001b[0m\u001b[1;33m\u001b[0m\u001b[1;33m\u001b[0m\u001b[0m\n\u001b[1;32m----> 2\u001b[1;33m \u001b[0msuccessful_df2\u001b[0m \u001b[1;33m=\u001b[0m \u001b[0mpd\u001b[0m\u001b[1;33m.\u001b[0m\u001b[0mread_csv\u001b[0m\u001b[1;33m(\u001b[0m\u001b[1;34m\"D:/Python/Machine Learning/Research/12.5%MUSuccess_UEP_C120518A_004_6_2_2_DCH20_40_121818-01-097.csv\"\u001b[0m\u001b[1;33m)\u001b[0m\u001b[1;33m\u001b[0m\u001b[1;33m\u001b[0m\u001b[0m\n\u001b[0m\u001b[0;32m      3\u001b[0m \u001b[0munsuccessful_df1\u001b[0m \u001b[1;33m=\u001b[0m \u001b[0mpd\u001b[0m\u001b[1;33m.\u001b[0m\u001b[0mread_csv\u001b[0m\u001b[1;33m(\u001b[0m\u001b[1;34m\"D:/Python/Machine Learning/Research/12.5%MUFade_UEP_C121818A_037_Config_6_2_DCH20_010319-01-011.csv\"\u001b[0m\u001b[1;33m)\u001b[0m\u001b[1;33m\u001b[0m\u001b[1;33m\u001b[0m\u001b[0m\n\u001b[0;32m      4\u001b[0m \u001b[0munsuccessful_df2\u001b[0m \u001b[1;33m=\u001b[0m \u001b[0mpd\u001b[0m\u001b[1;33m.\u001b[0m\u001b[0mread_csv\u001b[0m\u001b[1;33m(\u001b[0m\u001b[1;34m\"D:/Python/Machine Learning/Research/50%Fade_UEP_C052618A_041_CHPVA_DAn_DCa_DCH100_060418-01-079 (1).csv\"\u001b[0m\u001b[1;33m)\u001b[0m\u001b[1;33m\u001b[0m\u001b[1;33m\u001b[0m\u001b[0m\n",
      "\u001b[1;32mc:\\users\\raf\\pycharmprojects\\research\\venv\\lib\\site-packages\\pandas\\io\\parsers.py\u001b[0m in \u001b[0;36mparser_f\u001b[1;34m(filepath_or_buffer, sep, delimiter, header, names, index_col, usecols, squeeze, prefix, mangle_dupe_cols, dtype, engine, converters, true_values, false_values, skipinitialspace, skiprows, skipfooter, nrows, na_values, keep_default_na, na_filter, verbose, skip_blank_lines, parse_dates, infer_datetime_format, keep_date_col, date_parser, dayfirst, iterator, chunksize, compression, thousands, decimal, lineterminator, quotechar, quoting, doublequote, escapechar, comment, encoding, dialect, tupleize_cols, error_bad_lines, warn_bad_lines, delim_whitespace, low_memory, memory_map, float_precision)\u001b[0m\n\u001b[0;32m    700\u001b[0m                     skip_blank_lines=skip_blank_lines)\n\u001b[0;32m    701\u001b[0m \u001b[1;33m\u001b[0m\u001b[0m\n\u001b[1;32m--> 702\u001b[1;33m         \u001b[1;32mreturn\u001b[0m \u001b[0m_read\u001b[0m\u001b[1;33m(\u001b[0m\u001b[0mfilepath_or_buffer\u001b[0m\u001b[1;33m,\u001b[0m \u001b[0mkwds\u001b[0m\u001b[1;33m)\u001b[0m\u001b[1;33m\u001b[0m\u001b[1;33m\u001b[0m\u001b[0m\n\u001b[0m\u001b[0;32m    703\u001b[0m \u001b[1;33m\u001b[0m\u001b[0m\n\u001b[0;32m    704\u001b[0m     \u001b[0mparser_f\u001b[0m\u001b[1;33m.\u001b[0m\u001b[0m__name__\u001b[0m \u001b[1;33m=\u001b[0m \u001b[0mname\u001b[0m\u001b[1;33m\u001b[0m\u001b[1;33m\u001b[0m\u001b[0m\n",
      "\u001b[1;32mc:\\users\\raf\\pycharmprojects\\research\\venv\\lib\\site-packages\\pandas\\io\\parsers.py\u001b[0m in \u001b[0;36m_read\u001b[1;34m(filepath_or_buffer, kwds)\u001b[0m\n\u001b[0;32m    427\u001b[0m \u001b[1;33m\u001b[0m\u001b[0m\n\u001b[0;32m    428\u001b[0m     \u001b[1;31m# Create the parser.\u001b[0m\u001b[1;33m\u001b[0m\u001b[1;33m\u001b[0m\u001b[1;33m\u001b[0m\u001b[0m\n\u001b[1;32m--> 429\u001b[1;33m     \u001b[0mparser\u001b[0m \u001b[1;33m=\u001b[0m \u001b[0mTextFileReader\u001b[0m\u001b[1;33m(\u001b[0m\u001b[0mfilepath_or_buffer\u001b[0m\u001b[1;33m,\u001b[0m \u001b[1;33m**\u001b[0m\u001b[0mkwds\u001b[0m\u001b[1;33m)\u001b[0m\u001b[1;33m\u001b[0m\u001b[1;33m\u001b[0m\u001b[0m\n\u001b[0m\u001b[0;32m    430\u001b[0m \u001b[1;33m\u001b[0m\u001b[0m\n\u001b[0;32m    431\u001b[0m     \u001b[1;32mif\u001b[0m \u001b[0mchunksize\u001b[0m \u001b[1;32mor\u001b[0m \u001b[0miterator\u001b[0m\u001b[1;33m:\u001b[0m\u001b[1;33m\u001b[0m\u001b[1;33m\u001b[0m\u001b[0m\n",
      "\u001b[1;32mc:\\users\\raf\\pycharmprojects\\research\\venv\\lib\\site-packages\\pandas\\io\\parsers.py\u001b[0m in \u001b[0;36m__init__\u001b[1;34m(self, f, engine, **kwds)\u001b[0m\n\u001b[0;32m    893\u001b[0m             \u001b[0mself\u001b[0m\u001b[1;33m.\u001b[0m\u001b[0moptions\u001b[0m\u001b[1;33m[\u001b[0m\u001b[1;34m'has_index_names'\u001b[0m\u001b[1;33m]\u001b[0m \u001b[1;33m=\u001b[0m \u001b[0mkwds\u001b[0m\u001b[1;33m[\u001b[0m\u001b[1;34m'has_index_names'\u001b[0m\u001b[1;33m]\u001b[0m\u001b[1;33m\u001b[0m\u001b[1;33m\u001b[0m\u001b[0m\n\u001b[0;32m    894\u001b[0m \u001b[1;33m\u001b[0m\u001b[0m\n\u001b[1;32m--> 895\u001b[1;33m         \u001b[0mself\u001b[0m\u001b[1;33m.\u001b[0m\u001b[0m_make_engine\u001b[0m\u001b[1;33m(\u001b[0m\u001b[0mself\u001b[0m\u001b[1;33m.\u001b[0m\u001b[0mengine\u001b[0m\u001b[1;33m)\u001b[0m\u001b[1;33m\u001b[0m\u001b[1;33m\u001b[0m\u001b[0m\n\u001b[0m\u001b[0;32m    896\u001b[0m \u001b[1;33m\u001b[0m\u001b[0m\n\u001b[0;32m    897\u001b[0m     \u001b[1;32mdef\u001b[0m \u001b[0mclose\u001b[0m\u001b[1;33m(\u001b[0m\u001b[0mself\u001b[0m\u001b[1;33m)\u001b[0m\u001b[1;33m:\u001b[0m\u001b[1;33m\u001b[0m\u001b[1;33m\u001b[0m\u001b[0m\n",
      "\u001b[1;32mc:\\users\\raf\\pycharmprojects\\research\\venv\\lib\\site-packages\\pandas\\io\\parsers.py\u001b[0m in \u001b[0;36m_make_engine\u001b[1;34m(self, engine)\u001b[0m\n\u001b[0;32m   1120\u001b[0m     \u001b[1;32mdef\u001b[0m \u001b[0m_make_engine\u001b[0m\u001b[1;33m(\u001b[0m\u001b[0mself\u001b[0m\u001b[1;33m,\u001b[0m \u001b[0mengine\u001b[0m\u001b[1;33m=\u001b[0m\u001b[1;34m'c'\u001b[0m\u001b[1;33m)\u001b[0m\u001b[1;33m:\u001b[0m\u001b[1;33m\u001b[0m\u001b[1;33m\u001b[0m\u001b[0m\n\u001b[0;32m   1121\u001b[0m         \u001b[1;32mif\u001b[0m \u001b[0mengine\u001b[0m \u001b[1;33m==\u001b[0m \u001b[1;34m'c'\u001b[0m\u001b[1;33m:\u001b[0m\u001b[1;33m\u001b[0m\u001b[1;33m\u001b[0m\u001b[0m\n\u001b[1;32m-> 1122\u001b[1;33m             \u001b[0mself\u001b[0m\u001b[1;33m.\u001b[0m\u001b[0m_engine\u001b[0m \u001b[1;33m=\u001b[0m \u001b[0mCParserWrapper\u001b[0m\u001b[1;33m(\u001b[0m\u001b[0mself\u001b[0m\u001b[1;33m.\u001b[0m\u001b[0mf\u001b[0m\u001b[1;33m,\u001b[0m \u001b[1;33m**\u001b[0m\u001b[0mself\u001b[0m\u001b[1;33m.\u001b[0m\u001b[0moptions\u001b[0m\u001b[1;33m)\u001b[0m\u001b[1;33m\u001b[0m\u001b[1;33m\u001b[0m\u001b[0m\n\u001b[0m\u001b[0;32m   1123\u001b[0m         \u001b[1;32melse\u001b[0m\u001b[1;33m:\u001b[0m\u001b[1;33m\u001b[0m\u001b[1;33m\u001b[0m\u001b[0m\n\u001b[0;32m   1124\u001b[0m             \u001b[1;32mif\u001b[0m \u001b[0mengine\u001b[0m \u001b[1;33m==\u001b[0m \u001b[1;34m'python'\u001b[0m\u001b[1;33m:\u001b[0m\u001b[1;33m\u001b[0m\u001b[1;33m\u001b[0m\u001b[0m\n",
      "\u001b[1;32mc:\\users\\raf\\pycharmprojects\\research\\venv\\lib\\site-packages\\pandas\\io\\parsers.py\u001b[0m in \u001b[0;36m__init__\u001b[1;34m(self, src, **kwds)\u001b[0m\n\u001b[0;32m   1851\u001b[0m         \u001b[0mkwds\u001b[0m\u001b[1;33m[\u001b[0m\u001b[1;34m'usecols'\u001b[0m\u001b[1;33m]\u001b[0m \u001b[1;33m=\u001b[0m \u001b[0mself\u001b[0m\u001b[1;33m.\u001b[0m\u001b[0musecols\u001b[0m\u001b[1;33m\u001b[0m\u001b[1;33m\u001b[0m\u001b[0m\n\u001b[0;32m   1852\u001b[0m \u001b[1;33m\u001b[0m\u001b[0m\n\u001b[1;32m-> 1853\u001b[1;33m         \u001b[0mself\u001b[0m\u001b[1;33m.\u001b[0m\u001b[0m_reader\u001b[0m \u001b[1;33m=\u001b[0m \u001b[0mparsers\u001b[0m\u001b[1;33m.\u001b[0m\u001b[0mTextReader\u001b[0m\u001b[1;33m(\u001b[0m\u001b[0msrc\u001b[0m\u001b[1;33m,\u001b[0m \u001b[1;33m**\u001b[0m\u001b[0mkwds\u001b[0m\u001b[1;33m)\u001b[0m\u001b[1;33m\u001b[0m\u001b[1;33m\u001b[0m\u001b[0m\n\u001b[0m\u001b[0;32m   1854\u001b[0m         \u001b[0mself\u001b[0m\u001b[1;33m.\u001b[0m\u001b[0munnamed_cols\u001b[0m \u001b[1;33m=\u001b[0m \u001b[0mself\u001b[0m\u001b[1;33m.\u001b[0m\u001b[0m_reader\u001b[0m\u001b[1;33m.\u001b[0m\u001b[0munnamed_cols\u001b[0m\u001b[1;33m\u001b[0m\u001b[1;33m\u001b[0m\u001b[0m\n\u001b[0;32m   1855\u001b[0m \u001b[1;33m\u001b[0m\u001b[0m\n",
      "\u001b[1;32mpandas\\_libs\\parsers.pyx\u001b[0m in \u001b[0;36mpandas._libs.parsers.TextReader.__cinit__\u001b[1;34m()\u001b[0m\n",
      "\u001b[1;32mpandas\\_libs\\parsers.pyx\u001b[0m in \u001b[0;36mpandas._libs.parsers.TextReader._setup_parser_source\u001b[1;34m()\u001b[0m\n",
      "\u001b[1;31mFileNotFoundError\u001b[0m: [Errno 2] File b'D:/Python/Machine Learning/Research/12.5%MUSuccess_UEP_C120518A_004_6_2_2_DCH20_40_121818-01-097.csv' does not exist: b'D:/Python/Machine Learning/Research/12.5%MUSuccess_UEP_C120518A_004_6_2_2_DCH20_40_121818-01-097.csv'"
     ]
    }
   ],
   "source": [
    "successful_df1 = pd.read_csv(\"D:/Python/Machine Learning/Research/10%Success_UEP_C042618A_198_DCH20_050318-01-069 (1).csv\")\n",
    "successful_df2 = pd.read_csv(\"D:/Python/Machine Learning/Research/12.5%MUSuccess_UEP_C120518A_004_6_2_2_DCH20_40_121818-01-097.csv\")\n",
    "unsuccessful_df1 = pd.read_csv(\"D:/Python/Machine Learning/Research/12.5%MUFade_UEP_C121818A_037_Config_6_2_DCH20_010319-01-011.csv\")\n",
    "unsuccessful_df2 = pd.read_csv(\"D:/Python/Machine Learning/Research/50%Fade_UEP_C052618A_041_CHPVA_DAn_DCa_DCH100_060418-01-079 (1).csv\")"
   ]
  },
  {
   "cell_type": "code",
   "execution_count": null,
   "metadata": {
    "scrolled": false
   },
   "outputs": [],
   "source": [
    "merged_df = pd.concat([successful_df1.iloc[:10, :], successful_df2.iloc[:10, :], unsuccessful_df1.iloc[:10, :], unsuccessful_df2.iloc[:8, :]])\n",
    "pd.set_option('display.max_columns', None)\n",
    "pd.set_option('display.max_rows', None)\n",
    "\n",
    "merged_df.replace('None', np.nan, inplace=True)\n",
    "\n",
    "display(merged_df)\n",
    "# merged_df.info()\n",
    "# merged_df.count()"
   ]
  },
  {
   "cell_type": "code",
   "execution_count": null,
   "metadata": {
    "scrolled": true
   },
   "outputs": [],
   "source": [
    "imputer = SimpleImputer(missing_values = np.nan, strategy = \"constant\", fill_value = 0)\n",
    "imputed_df = imputer.fit_transform(merged_df.iloc[:, :])\n",
    "imputed_df = pd.DataFrame(imputed_df, columns = merged_df.columns)\n",
    "display(imputed_df)\n",
    "# filtered_merged_df = merged_df.dropna(axis = 'columns', how = 'any')\n",
    "# display(filtered_merged_df)"
   ]
  },
  {
   "cell_type": "code",
   "execution_count": null,
   "metadata": {},
   "outputs": [],
   "source": [
    "columns = list(imputed_df.columns.values)\n",
    "print(columns)"
   ]
  },
  {
   "cell_type": "code",
   "execution_count": null,
   "metadata": {},
   "outputs": [],
   "source": [
    "clean_df = imputed_df[['Cycle Number', 'Charge Capacity (Ah)', 'Discharge Capacity (Ah)', 'Minimum Test Net Capacity (Ah)', 'Maximum Test Net Capacity (Ah)', 'Charge Energy (Wh)', 'Discharge Energy (Wh)', 'Minimum Test Net Energy (Wh)', 'Maximum Test Net Energy (Wh)', 'Coulombic Efficiency', 'Energy Efficiency', 'Voltage Efficiency', 'Minimum Potential (V)', 'Maximum Potential (V)', 'Mean Charge Potential (time-weighted) (V)', 'Mean Discharge Potential (time-weighted) (V)', 'Relaxation Potential - Charge (V)', 'Relaxation Potential - Discharge (V)', 'Maximum Charge Power (W)', 'Maximum Discharge Power (W)', 'Mean Charge Power (time-weighted) (W)', 'Mean Discharge Power (time-weighted) (W)', 'Internal Resistance End of Charge (Ω)', 'Internal Resistance End of Discharge (Ω)', 'Maximum Discharge Current (A)', 'Maximum Charge Current (A)', 'Minimum Discharge Current (A)', 'Minimum Charge Current (A)', 'Mean Discharge Current (time-weighted) (A)', 'Mean Charge Current (time-weighted) (A)', 'Mean Discharge Potential (capacity-weighted) (V)', 'Mean Charge Potential (capacity-weighted) (V)', 'Initial Discharge Potential (V)', 'Initial Charge Potential (V)', 'Final Discharge Potential (V)', 'Final Charge Potential (V)', 'Internal Resistance Start of Charge (Ω)', 'Internal Resistance Start of Discharge (Ω)', 'Minimum Charge Power (W)', 'Minimum Discharge Power (W)', 'Cycle Net Capacity (Ah)', 'Cycle Net Energy (Wh)']]\n",
    "display(clean_df) # without manufacturing data for now\n",
    "len(clean_df.columns)"
   ]
  },
  {
   "cell_type": "code",
   "execution_count": null,
   "metadata": {
    "scrolled": true
   },
   "outputs": [],
   "source": [
    "# df_stf = StandardScaler().fit_transform(clean_df)\n",
    "# PCA_df = pd.DataFrame(df_stf, columns = clean_df.columns)\n",
    "# display(PCA_df)\n",
    "# len(PCA_df.columns)"
   ]
  },
  {
   "cell_type": "code",
   "execution_count": null,
   "metadata": {
    "scrolled": false
   },
   "outputs": [],
   "source": [
    "fig, axes = plt.subplots(14, 3, figsize = (20, 16))\n",
    "ax = axes.ravel()\n",
    "\n",
    "# bin_range = int(clean_df.iloc[:, :].max().max() - clean_df.iloc[:, :].min().min()) + 1\n",
    "\n",
    "for i in range(42):\n",
    "    _, bins = np.histogram(clean_df.iloc[:, i], bins = 40)\n",
    "    ax[i].hist(clean_df.iloc[:20, i], bins = bins, color = 'g', alpha = 0.3)\n",
    "    ax[i].hist(clean_df.iloc[20:, i], bins = bins, color = 'r', alpha = 0.5)\n",
    "    ax[i].set_title(clean_df.columns[i], fontsize = 12)\n",
    "    ax[i].axes.get_xaxis().set_visible(False)\n",
    "    ax[i].set_yticks(())\n",
    "    \n",
    "ax[0].legend(['successful', 'fade'], loc = 'best', fontsize = 12)\n",
    "plt.tight_layout()\n",
    "plt.show()"
   ]
  },
  {
   "cell_type": "code",
   "execution_count": null,
   "metadata": {},
   "outputs": [],
   "source": [
    "# maximum discharge current !!!\n",
    "# minimum discharge current\n",
    "# mean discharge current (time-weighted)\n",
    "# initial discharge potential\n",
    "# final charge potential\n",
    "# internal resistance start of charge\n",
    "# internal resistance end of discharge\n",
    "\n",
    "# assembled date, operator (deals with winding cell), dry voltage (measured before cells are filled), anode and cathode batch numbers (shows mixing, coating, and temperature at the day), date time was made and date tested"
   ]
  },
  {
   "cell_type": "code",
   "execution_count": null,
   "metadata": {},
   "outputs": [],
   "source": [
    "pca = PCA().fit(PCA_df)\n",
    "plt.figure()\n",
    "plt.plot(np.cumsum(pca.explained_variance_ratio_))\n",
    "plt.xlabel('Number of Components')\n",
    "plt.ylabel('Variance (%)')  # for each component\n",
    "plt.title('Explained Variance')\n",
    "plt.show()"
   ]
  },
  {
   "cell_type": "code",
   "execution_count": null,
   "metadata": {},
   "outputs": [],
   "source": [
    "pca = PCA(n_components = 3)\n",
    "pca.fit(PCA_df)\n",
    "X_PCA = pca.transform(PCA_df)\n",
    "print(\"Shape of X_PCA\", X_PCA.shape)\n",
    "# drawback is that its impossible to tell how the 42 initial features combined to form principal components"
   ]
  },
  {
   "cell_type": "code",
   "execution_count": null,
   "metadata": {},
   "outputs": [],
   "source": [
    "ex_variance = np.var(X_PCA, axis = 0)\n",
    "ex_variance_ratio = ex_variance/np.sum(ex_variance)\n",
    "print(ex_variance_ratio)\n",
    "print(sum(ex_variance_ratio)) # can see that first two components contribute to 83% of the total variance"
   ]
  },
  {
   "cell_type": "code",
   "execution_count": null,
   "metadata": {
    "scrolled": false
   },
   "outputs": [],
   "source": [
    "# X_PCA_t = X_PCA.T\n",
    "# print(X_PCA) # want to just take first two\n",
    "# Xax = X_PCA[:10, :2].astype('int')\n",
    "# Yax = X_PCA[10:, :2].astype('int')\n",
    "# colors = ['green', 'red']\n",
    "# fig,ax=plt.subplots(figsize=(7,5))\n",
    "# fig.patch.set_facecolor('white')\n",
    "\n",
    "# for i in Xax:\n",
    "#     ax.scatter(Xax[i], Yax[i], color = colors[i])\n",
    "# plt.xlabel(\"First Principal Component\")\n",
    "# plt.ylabel(\"Second Principal Component\")\n",
    "# plt.legend()\n",
    "# plt.show()"
   ]
  },
  {
   "cell_type": "code",
   "execution_count": null,
   "metadata": {},
   "outputs": [],
   "source": [
    "plt.matshow(pca.components_,cmap='plasma')\n",
    "plt.yticks([0,1,2],['1st Comp','2nd Comp','3rd Comp'],fontsize=10)\n",
    "plt.colorbar()\n",
    "plt.xticks(range(len(PCA_df.columns)),PCA_df.columns,rotation=65,ha='left')\n",
    "plt.tight_layout()\n",
    "plt.show()\n",
    "\n",
    "#shows how features were combined to form the principal components"
   ]
  },
  {
   "cell_type": "code",
   "execution_count": null,
   "metadata": {},
   "outputs": [],
   "source": []
  }
 ],
 "metadata": {
  "kernelspec": {
   "display_name": "Python 3",
   "language": "python",
   "name": "python3"
  },
  "language_info": {
   "codemirror_mode": {
    "name": "ipython",
    "version": 3
   },
   "file_extension": ".py",
   "mimetype": "text/x-python",
   "name": "python",
   "nbconvert_exporter": "python",
   "pygments_lexer": "ipython3",
   "version": "3.6.8"
  }
 },
 "nbformat": 4,
 "nbformat_minor": 2
}
